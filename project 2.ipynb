{
 "cells": [
  {
   "cell_type": "code",
   "execution_count": null,
   "id": "77b356f3",
   "metadata": {},
   "outputs": [],
   "source": []
  },
  {
   "cell_type": "code",
   "execution_count": null,
   "id": "b0c29505",
   "metadata": {},
   "outputs": [],
   "source": []
  },
  {
   "cell_type": "code",
   "execution_count": 1,
   "id": "37884cd5",
   "metadata": {},
   "outputs": [],
   "source": [
    "#!pip install torchvision"
   ]
  },
  {
   "cell_type": "code",
   "execution_count": 2,
   "id": "e177cdd6",
   "metadata": {},
   "outputs": [
    {
     "data": {
      "text/plain": [
       "<matplotlib.pyplot._IonContext at 0x2b7cf6f7b50>"
      ]
     },
     "execution_count": 2,
     "metadata": {},
     "output_type": "execute_result"
    }
   ],
   "source": [
    "from __future__ import print_function, division\n",
    "\n",
    "import torch\n",
    "import pandas as pd\n",
    "import torch.nn as nn\n",
    "\n",
    "import torch.optim as optim\n",
    "\n",
    "from torch.optim import lr_scheduler\n",
    "\n",
    "import numpy as np\n",
    "\n",
    "\n",
    "import torchvision\n",
    "from torchvision import datasets, models, transforms\n",
    "\n",
    "import matplotlib.pyplot as plt\n",
    "\n",
    "import time\n",
    "\n",
    "import os\n",
    "\n",
    "import copy\n",
    "import pandas as pd\n",
    "\n",
    "plt.ion() #interactive mode\n"
   ]
  },
  {
   "cell_type": "code",
   "execution_count": 3,
   "id": "e3f58270",
   "metadata": {},
   "outputs": [],
   "source": [
    "#os.listdir('./train_set/train_set')"
   ]
  },
  {
   "cell_type": "code",
   "execution_count": 4,
   "id": "13a02daf",
   "metadata": {},
   "outputs": [],
   "source": [
    "training_data='./train_set'"
   ]
  },
  {
   "cell_type": "code",
   "execution_count": 5,
   "id": "8a133ef3",
   "metadata": {},
   "outputs": [
    {
     "name": "stdout",
     "output_type": "stream",
     "text": [
      "Compose(\n",
      "    Resize(size=(224, 224), interpolation=bilinear, max_size=None, antialias=None)\n",
      "    ToTensor()\n",
      ")\n"
     ]
    }
   ],
   "source": [
    "#resize, pixels. resize depending on data, we have to explore other sizes to check for performance\n",
    "training_transforms=transforms.Compose([transforms.Resize((224,224)),transforms.ToTensor()])\n",
    "print(training_transforms)"
   ]
  },
  {
   "cell_type": "code",
   "execution_count": 6,
   "id": "560794e4",
   "metadata": {},
   "outputs": [],
   "source": [
    "train_dataset=torchvision.datasets.ImageFolder(root=training_data,transform=training_transforms)\n"
   ]
  },
  {
   "cell_type": "code",
   "execution_count": 7,
   "id": "149c56b2",
   "metadata": {},
   "outputs": [],
   "source": [
    "train_loader=torch.utils.data.DataLoader(dataset=train_dataset,batch_size=32,shuffle=False)"
   ]
  },
  {
   "cell_type": "code",
   "execution_count": 8,
   "id": "40692b94",
   "metadata": {},
   "outputs": [],
   "source": [
    "\n",
    "# def get_mean_and_std(loader):\n",
    "#     mean=0.\n",
    "#     std=0.\n",
    "#     total_images_count=0\n",
    "#     for images,_ in loader:\n",
    "#         image_count_in_a_batch=images.size(0)\n",
    "#         images=images.view(image_count_in_a_batch, images.size(1), -1)\n",
    "#         mean+=images.mean(2).sum(0)\n",
    "#         std+=images.std(2).sum(0)\n",
    "#         total_images_count+=image_count_in_a_batch\n",
    "#     mean/=total_images_count\n",
    "#     std/=total_images_count\n",
    "#     return mean,std\n",
    "    "
   ]
  },
  {
   "cell_type": "code",
   "execution_count": 9,
   "id": "51b94e73",
   "metadata": {},
   "outputs": [],
   "source": [
    "# get_mean_and_std(train_loader)"
   ]
  },
  {
   "cell_type": "code",
   "execution_count": 10,
   "id": "fc10adf0",
   "metadata": {},
   "outputs": [],
   "source": [
    "train_dataset_path='./train_set'\n",
    "test_dataset_path= './test_set'"
   ]
  },
  {
   "cell_type": "code",
   "execution_count": 11,
   "id": "a5da405b",
   "metadata": {},
   "outputs": [],
   "source": [
    "#image data preparation \n",
    "#normalized data=> image=(image-mean)/std\n",
    "\n",
    "mean=[0.6366, 0.5437, 0.4454]\n",
    "std=[0.2235, 0.2422, 0.2654]\n",
    "train_transforms=transforms.Compose([\n",
    "\n",
    "                                 transforms.Resize((224,224)),\n",
    "\n",
    "                                 transforms.RandomHorizontalFlip(),\n",
    "    \n",
    "                                 transforms.RandomRotation(10),\n",
    "\n",
    "                                 transforms.ToTensor(),\n",
    "\n",
    "                                 transforms.Normalize(torch.Tensor(mean),torch.Tensor(std))\n",
    "])\n",
    "\n",
    "test_transforms=transforms.Compose([\n",
    "                                 transforms.Resize((224,224)),\n",
    "    \n",
    "                                 transforms.ToTensor(),\n",
    "\n",
    "                                 transforms.Normalize(torch.Tensor(mean),torch.Tensor(std))\n",
    "])"
   ]
  },
  {
   "cell_type": "code",
   "execution_count": 12,
   "id": "82f4eeea",
   "metadata": {},
   "outputs": [],
   "source": [
    "train_dataset=torchvision.datasets.ImageFolder(root=train_dataset_path,transform=train_transforms)\n",
    "test_dataset=torchvision.datasets.ImageFolder(root=test_dataset_path,transform=train_transforms)"
   ]
  },
  {
   "cell_type": "code",
   "execution_count": 13,
   "id": "8862950f",
   "metadata": {},
   "outputs": [],
   "source": [
    "#print(test_dataset)"
   ]
  },
  {
   "cell_type": "code",
   "execution_count": 14,
   "id": "27edd0e8",
   "metadata": {},
   "outputs": [],
   "source": [
    "# def show_transf_images(data):\n",
    "#     loader=torch.utils.data.DataLoader(data,batch_size=6, shuffle=True)\n",
    "#     batch=next(iter(loader))\n",
    "#     images,labels=batch\n",
    "    \n",
    "#     grid=torchvision.utils.make_grid(images,nrow=3)\n",
    "#     plt.figure(figsize=(11,11))\n",
    "#     plt.imshow(np.transpose(grid,(1,2,0)))\n",
    "#     print('labels:',labels)\n",
    "    "
   ]
  },
  {
   "cell_type": "code",
   "execution_count": 15,
   "id": "723d0f57",
   "metadata": {},
   "outputs": [],
   "source": [
    "# show_transf_images(test_dataset)\n",
    "\n"
   ]
  },
  {
   "cell_type": "code",
   "execution_count": 18,
   "id": "84b2951a",
   "metadata": {},
   "outputs": [],
   "source": [
    "#Mini-Batch Gradient Descent, start with 32 and explore to increase performance\n",
    "train_loader=torch.utils.data.DataLoader(train_dataset,batch_size=32,shuffle=True)\n",
    "test_loader=torch.utils.data.DataLoader(test_dataset,batch_size=32,shuffle=True)\n",
    "                           "
   ]
  },
  {
   "cell_type": "code",
   "execution_count": null,
   "id": "b530afcb",
   "metadata": {},
   "outputs": [],
   "source": []
  },
  {
   "cell_type": "code",
   "execution_count": null,
   "id": "dcddfa35",
   "metadata": {},
   "outputs": [],
   "source": []
  },
  {
   "cell_type": "code",
   "execution_count": null,
   "id": "6dc3a052",
   "metadata": {},
   "outputs": [],
   "source": []
  },
  {
   "cell_type": "code",
   "execution_count": null,
   "id": "496c1637",
   "metadata": {},
   "outputs": [],
   "source": []
  }
 ],
 "metadata": {
  "kernelspec": {
   "display_name": "Python 3 (ipykernel)",
   "language": "python",
   "name": "python3"
  },
  "language_info": {
   "codemirror_mode": {
    "name": "ipython",
    "version": 3
   },
   "file_extension": ".py",
   "mimetype": "text/x-python",
   "name": "python",
   "nbconvert_exporter": "python",
   "pygments_lexer": "ipython3",
   "version": "3.9.13"
  }
 },
 "nbformat": 4,
 "nbformat_minor": 5
}
