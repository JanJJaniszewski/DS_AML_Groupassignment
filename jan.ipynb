{
 "cells": [
  {
   "cell_type": "code",
   "execution_count": 32,
   "metadata": {
    "pycharm": {
     "name": "#%%\n"
    }
   },
   "outputs": [],
   "source": [
    "import pandas as pd\n",
    "import Config.ConfigMain as conf\n",
    "import Config.ConfigPaths as paths\n",
    "from Config.Location import location\n",
    "import Config.Secrets as ss\n",
    "import os"
   ]
  },
  {
   "cell_type": "code",
   "execution_count": null,
   "outputs": [],
   "source": [
    "input_labels_test = 'Data/Input/food-recognition-challenge-2022/sample.csv'\n",
    "input_labels_train = 'Data/Input/food-recognition-challenge-2022/train_labels.csv'\n",
    "A_trainset = './Data/Throughput/A_folderize/train/'\n",
    "A_testset = './Data/Throughput/A_folderize/test/'"
   ],
   "metadata": {
    "collapsed": false,
    "pycharm": {
     "name": "#%%\n"
    }
   }
  },
  {
   "cell_type": "code",
   "execution_count": null,
   "outputs": [],
   "source": [
    "labels_test = pd.read_csv(input_labels_test)\n",
    "labels_train = pd.read_csv(input_labels_train)"
   ],
   "metadata": {
    "collapsed": false,
    "pycharm": {
     "name": "#%%\n"
    }
   }
  },
  {
   "cell_type": "code",
   "execution_count": null,
   "outputs": [],
   "source": [
    "os.mkdir(A_trainset)\n",
    "os.mkdir(A_testset)\n",
    "for label in labels_train['label'].unique():\n",
    "    path = A_trainset + str(label)\n",
    "    if not os.path.exists(path):\n",
    "        os.mkdir(path)\n",
    "for label in labels_test['label'].unique():\n",
    "    path = A_testset + str(label)\n",
    "    if not os.path.exists(path):\n",
    "        os.mkdir(path)"
   ],
   "metadata": {
    "collapsed": false,
    "pycharm": {
     "name": "#%%\n"
    }
   }
  },
  {
   "cell_type": "code",
   "execution_count": null,
   "outputs": [],
   "source": [],
   "metadata": {
    "collapsed": false,
    "pycharm": {
     "name": "#%%\n"
    }
   }
  },
  {
   "cell_type": "code",
   "execution_count": null,
   "metadata": {
    "pycharm": {
     "name": "#%%\n"
    }
   },
   "outputs": [],
   "source": []
  }
 ],
 "metadata": {
  "kernelspec": {
   "display_name": "Python 3 (ipykernel)",
   "language": "python",
   "name": "python3"
  },
  "language_info": {
   "codemirror_mode": {
    "name": "ipython",
    "version": 3
   },
   "file_extension": ".py",
   "mimetype": "text/x-python",
   "name": "python",
   "nbconvert_exporter": "python",
   "pygments_lexer": "ipython3",
   "version": "3.10.8"
  }
 },
 "nbformat": 4,
 "nbformat_minor": 1
}